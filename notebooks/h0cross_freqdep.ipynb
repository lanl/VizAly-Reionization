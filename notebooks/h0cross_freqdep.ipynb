{
 "cells": [
  {
   "cell_type": "markdown",
   "metadata": {},
   "source": [
    "# Tabulating H0 cross-section as a function of frequency."
   ]
  },
  {
   "cell_type": "markdown",
   "metadata": {},
   "source": [
    "Let $\\sigma_\\nu$ denote the (microscopic) photoionization cross-section (units cm^2) of neutral hydrogen at frequency $\\nu$, and $\\sigma_0$ denote the cross-section at ionization threshold frequency $\\nu_{th}$. In [C2Ray-1D](https://github.com/garrelt/C2-Ray1D), `radiation.f90`, $\\frac{\\sigma_\\nu}{\\sigma_0}$ is tabulated and stored in the array `h0cross_freqdep`."
   ]
  },
  {
   "cell_type": "code",
   "execution_count": 1,
   "metadata": {},
   "outputs": [],
   "source": [
    "# using OffsetArrays\n",
    "\n",
    "import numpy as np\n",
    "from matplotlib import pyplot as plt"
   ]
  },
  {
   "cell_type": "markdown",
   "metadata": {},
   "source": [
    "## Constants"
   ]
  },
  {
   "cell_type": "markdown",
   "metadata": {},
   "source": [
    "Physical constants"
   ]
  },
  {
   "cell_type": "code",
   "execution_count": 2,
   "metadata": {},
   "outputs": [],
   "source": [
    "kb=1.381e-16 # Boltzmann constant (cgs units)\n",
    "hplanck=6.6260755e-27 # Planck constant\n",
    "eth0=13.598 # Hydrogen ionization energy (in eV)\n",
    "ev2fr=0.241838e15 # conversion between evs and frequency\n",
    "thigh=200000.0 # maximum T_eff for black body\n",
    "tlow=2000.0 # minimum T_eff for black body\n",
    "\n",
    "frth0=ev2fr*eth0 # H ionization energy in frequency\n",
    "\n",
    "sh0=2.8 # Frequency dependence of H cross section parameter\n",
    "betah0=1.0; # Frequency dependence of H cross section parameter"
   ]
  },
  {
   "cell_type": "markdown",
   "metadata": {},
   "source": [
    "Constants pertaining to our numerical implementation"
   ]
  },
  {
   "cell_type": "code",
   "execution_count": 3,
   "metadata": {},
   "outputs": [],
   "source": [
    "# Upper limits for integrals: due to arithmetic precision,\n",
    "#     exp(700) exceeds double precision limit\n",
    "frtop1=700.0*tlow*kb/hplanck \n",
    "# Upper limits for integrals: due to the form of the Planck\n",
    "#     curve: take 10 times the frequency of maximum intensity\n",
    "frtop2=5.88e-05*thigh*1e15\n",
    "NumFreq = 128;"
   ]
  },
  {
   "cell_type": "markdown",
   "metadata": {},
   "source": [
    "## Build array of frequencies, compute frequency dependence table"
   ]
  },
  {
   "cell_type": "code",
   "execution_count": 4,
   "metadata": {},
   "outputs": [],
   "source": [
    "assert frth0 < frtop1\n",
    "# fr = OffsetArray(zeros(NumFreq+1),0:NumFreq)\n",
    "table_len = NumFreq+1\n",
    "fr = np.zeros(table_len)\n",
    "frmax=min(frtop1,10.0*frtop2) # Upper limit of frequency integration\n",
    "steph0=(frmax-frth0)/NumFreq; # Frequency step\n",
    "h0cross_freqdep = np.zeros(table_len)\n",
    "\n",
    "for i in range(NumFreq+1):\n",
    "    fr[i] = frth0+steph0*i\n",
    "    h0cross_freqdep[i]=(betah0*(fr[i]/frth0)**(-sh0)+(1.0-betah0)*(fr[i]/frth0)**(-sh0-1.0))"
   ]
  },
  {
   "cell_type": "code",
   "execution_count": 6,
   "metadata": {},
   "outputs": [
    {
     "data": {
      "text/plain": [
       "<matplotlib.legend.Legend at 0x7f0d02ad2d60>"
      ]
     },
     "execution_count": 6,
     "metadata": {},
     "output_type": "execute_result"
    },
    {
     "data": {
      "image/png": "[encoded data removed]",
      "text/plain": [
       "<Figure size 432x288 with 1 Axes>"
      ]
     },
     "metadata": {
      "needs_background": "light"
     },
     "output_type": "display_data"
    }
   ],
   "source": [
    "fig, ax = plt.subplots()\n",
    "ax.plot(fr, h0cross_freqdep, label='Ref. impl.')\n",
    "ax.set_ylabel(\"Ratio\")\n",
    "ax.set_xlabel(\"Frqeuency (Hz)\")\n",
    "ax.legend()"
   ]
  }
 ],
 "metadata": {
  "kernelspec": {
   "display_name": "Python 3",
   "language": "python",
   "name": "python3"
  },
  "language_info": {
   "codemirror_mode": {
    "name": "ipython",
    "version": 3
   },
   "file_extension": ".py",
   "mimetype": "text/x-python",
   "name": "python",
   "nbconvert_exporter": "python",
   "pygments_lexer": "ipython3",
   "version": "3.9.1"
  }
 },
 "nbformat": 4,
 "nbformat_minor": 4
}
